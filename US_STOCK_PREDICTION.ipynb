{
  "nbformat": 4,
  "nbformat_minor": 0,
  "metadata": {
    "colab": {
      "private_outputs": true,
      "provenance": [],
      "collapsed_sections": [],
      "authorship_tag": "ABX9TyPsUbgf0saQfMEMnN6gxyMG",
      "include_colab_link": true
    },
    "kernelspec": {
      "name": "python3",
      "display_name": "Python 3"
    },
    "language_info": {
      "name": "python"
    },
    "accelerator": "GPU",
    "gpuClass": "standard"
  },
  "cells": [
    {
      "cell_type": "markdown",
      "metadata": {
        "id": "view-in-github",
        "colab_type": "text"
      },
      "source": [
        "<a href=\"https://colab.research.google.com/github/jodog0412/US-STOCK-PREDICTION/blob/main/US_STOCK_PREDICTION.ipynb\" target=\"_parent\"><img src=\"https://colab.research.google.com/assets/colab-badge.svg\" alt=\"Open In Colab\"/></a>"
      ]
    },
    {
      "cell_type": "markdown",
      "source": [
        "# Prepare"
      ],
      "metadata": {
        "id": "GCYSp56BBJrx"
      }
    },
    {
      "cell_type": "code",
      "source": [
        "!pip install yfinance\n",
        "import numpy as np\n",
        "import pandas as pd\n",
        "import yfinance as yf\n",
        "import matplotlib.pyplot as plt"
      ],
      "metadata": {
        "id": "oP0c3r1oBu1r"
      },
      "execution_count": null,
      "outputs": []
    },
    {
      "cell_type": "code",
      "execution_count": null,
      "metadata": {
        "id": "HRoK0Kp3BDXK"
      },
      "outputs": [],
      "source": [
        "from pandas.compat.pyarrow import pa\n",
        "import sklearn\n",
        "from sklearn.model_selection import train_test_split\n",
        "import sklearn.preprocessing as prep\n",
        "from sklearn.metrics import mean_squared_error\n",
        "\n",
        "ticker_ml=yf.Ticker(\"MSFT\")\n",
        "data_raw=ticker_ml.history(period=\"5y\")\n",
        "\n",
        "X=data_raw.drop(['Close'],axis=1)\n",
        "Y=data_raw['Close']\n",
        "plt.plot(data_raw.index,Y)"
      ]
    },
    {
      "cell_type": "markdown",
      "source": [
        "# Data Scailing"
      ],
      "metadata": {
        "id": "FyZmei5PCU5d"
      }
    },
    {
      "cell_type": "code",
      "source": [
        "x_train,x_test,y_train,y_test=train_test_split(X,\n",
        "                                               Y,\n",
        "                                               test_size=0.2)\n",
        "scale = prep.StandardScaler()\n",
        "x_train = scale.fit_transform(x_train)\n",
        "x_test = scale.transform(x_test)\n"
      ],
      "metadata": {
        "id": "WYRp-6Q_CNsl"
      },
      "execution_count": null,
      "outputs": []
    },
    {
      "cell_type": "markdown",
      "source": [
        "# MLP"
      ],
      "metadata": {
        "id": "N450qwVTBQKI"
      }
    },
    {
      "cell_type": "code",
      "source": [
        "import torch\n",
        "import torch.nn as nn\n",
        "import torch.optim as optim\n",
        "\n",
        "class MLP(nn.Module):\n",
        "    def __init__(self):\n",
        "        super().__init__()\n",
        "        self.layer1=torch.nn.Sequential(\n",
        "            nn.Linear(6,16),\n",
        "            nn.ReLU()\n",
        "        )\n",
        "        self.layer2=torch.nn.Sequential(\n",
        "            nn.Linear(16,32),\n",
        "            nn.ReLU()\n",
        "        )\n",
        "        self.layer3=torch.nn.Sequential(\n",
        "            nn.Linear(32,64),\n",
        "            nn.ReLU()\n",
        "        )\n",
        "        self.out=torch.nn.Sequential(\n",
        "            nn.Linear(64,1)\n",
        "        )\n",
        "    def forward(self,x):\n",
        "        x=self.layer1(x)\n",
        "        x=self.layer2(x)\n",
        "        x=self.layer3(x)\n",
        "        output=self.out(x)\n",
        "        return output "
      ],
      "metadata": {
        "id": "y-TUHLtRBQlo"
      },
      "execution_count": null,
      "outputs": []
    },
    {
      "cell_type": "code",
      "source": [
        "device = torch.device('cuda' if torch.cuda.is_available() else 'cpu')\n",
        "torch.manual_seed(777)\n",
        "if device == 'cuda':\n",
        "    torch.cuda.manual_seed_all(777)"
      ],
      "metadata": {
        "id": "OCfjaRxTBYro"
      },
      "execution_count": null,
      "outputs": []
    },
    {
      "cell_type": "code",
      "source": [
        "model=MLP().to(device)\n",
        "criterion=nn.MSELoss().to(device)\n",
        "optimizer=optim.Adam(model.parameters(),lr=0.001)\n",
        "x_train_T=torch.Tensor(x_train.astype(np.float64))\n",
        "y_train_T=torch.Tensor(y_train.astype(np.float64))\n",
        "losses=[]\n",
        "epochs=10000\n",
        "def train(model,optimizer):\n",
        "    model.train()\n",
        "    for epoch in range(epochs):\n",
        "        running_loss=0.0\n",
        "        pred=model(x_train_T.cuda())\n",
        "        loss=criterion(pred.cuda(),y_train_T.reshape(-1,1).cuda())\n",
        "        optimizer.zero_grad() #배치마다 optimizer 초기화\n",
        "        loss.backward() #손실함수 기준 역전파 \n",
        "        optimizer.step() #가중치 최적화\n",
        "        running_loss += loss.item()\n",
        "        losses.append(running_loss)\n",
        "        if epoch%100==0:\n",
        "            print('[%d] Train loss: %.5f' %(epoch, running_loss))\n",
        "    plt.plot(list(range(epochs)),losses)\n",
        "train(model,optimizer)"
      ],
      "metadata": {
        "id": "PW2ar9U2BbqG"
      },
      "execution_count": null,
      "outputs": []
    },
    {
      "cell_type": "code",
      "source": [
        "y_pred=model(x_train_T.cuda())\n",
        "stock_pred=pd.DataFrame({\"Pred\":y_pred.flatten().detach().cpu().numpy()},index=pd.date_range(start=data_raw.index[-1], \n",
        "                                                                                   periods=len(y_pred), freq=\"M\"))\n",
        "plt.plot(Y[-730:])\n",
        "plt.plot(stock_pred[:12])"
      ],
      "metadata": {
        "id": "Dbo2-v19BgTF"
      },
      "execution_count": null,
      "outputs": []
    },
    {
      "cell_type": "code",
      "source": [],
      "metadata": {
        "id": "WRxALtIXCDR7"
      },
      "execution_count": null,
      "outputs": []
    }
  ]
}